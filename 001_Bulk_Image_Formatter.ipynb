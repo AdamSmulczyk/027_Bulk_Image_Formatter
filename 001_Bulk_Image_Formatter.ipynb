

{
 "cells": [
  {
   "cell_type": "markdown",
   "id": "6af741ce",
   "metadata": {},
   "source": [
    "Project: Bulk Image Formatter \n",
    "-Change the dimensions and edit a large number of files"
   ]
  },
  {
   "cell_type": "markdown",
   "id": "f4d847ad",
   "metadata": {},
   "source": [
    "1.Find all JPG images in a folder\n",
    "2.Crop them to 500x500 pixels (from the center)\n",
    "3.Convert them to PNG format\n",
    "4.Save the converted images"
   ]
  },
  {
   "cell_type": "code",
   "execution_count": 1,
   "id": "3417187d",
   "metadata": {},
   "outputs": [
    {
     "name": "stdout",
     "output_type": "stream",
     "text": [
      "Requirement already satisfied: Pillow in d:\\programy\\anaconda3\\lib\\site-packages (10.3.0)\n",
      "Note: you may need to restart the kernel to use updated packages.\n"
     ]
    }
   ],
   "source": [
    "# pip install Pillow"
   ]
  },
  {
   "cell_type": "code",
   "execution_count": 2,
   "id": "1a0b7b47",
   "metadata": {},
   "outputs": [],
   "source": [
    "import os\n",
    "from PIL import Image\n",
    "import argparse"
   ]
  },
  {
   "cell_type": "code",
   "execution_count": null,
   "id": "b2f102f2",
   "metadata": {},
   "outputs": [],
   "source": [
    "def process_image(input_path, output_folder, size=(500, 500)):\n",
    "    \"\"\"\n",
    "    Process a single image: crop to square and convert to PNG\n",
    "    \n",
    "    Args:\n",
    "        input_path: Path to the input JPG file\n",
    "        output_folder: Folder to save the output PNG file\n",
    "        size: Tuple of (width, height) for the output image\n",
    "    \"\"\"\n",
    "    try:\n",
    "        # Open the image\n",
    "        img = Image.open(input_path)\n",
    "        \n",
    "        # Get original dimensions\n",
    "        width, height = img.size\n",
    "        \n",
    "        # Calculate crop box (centered)\n",
    "        if width > height:\n",
    "            # Landscape image\n",
    "            left = (width - height) // 2\n",
    "            top = 0\n",
    "            right = left + height\n",
    "            bottom = height\n",
    "        else:\n",
    "            # Portrait or square image\n",
    "            left = 0\n",
    "            top = (height - width) // 2\n",
    "            right = width\n",
    "            bottom = top + width\n",
    "        \n",
    "        # Crop to square\n",
    "        img_cropped = img.crop((left, top, right, bottom))\n",
    "        \n",
    "        # Resize to target size\n",
    "        img_resized = img_cropped.resize(size, Image.LANCZOS)\n",
    "        \n",
    "        # Generate output filename (change extension to .png)\n",
    "        filename = os.path.basename(input_path)\n",
    "        name_without_ext = os.path.splitext(filename)[0]\n",
    "        output_filename = f\"{name_without_ext}.png\"\n",
    "        output_path = os.path.join(output_folder, output_filename)\n",
    "        \n",
    "        # Save as PNG\n",
    "        img_resized.save(output_path, \"PNG\")\n",
    "        print(f\"Processed: {filename} → {output_filename}\")\n",
    "        \n",
    "        return True\n",
    "    except Exception as e:\n",
    "        print(f\"Error processing {input_path}: {e}\")\n",
    "        return False\n",
    "\n",
    "def batch_process_images(input_folder, output_folder, size=(500, 500)):\n",
    "    \"\"\"\n",
    "    Process all JPG images in the input folder\n",
    "    \n",
    "    Args:\n",
    "        input_folder: Folder containing JPG images\n",
    "        output_folder: Folder to save the output PNG files\n",
    "        size: Tuple of (width, height) for the output images\n",
    "    \"\"\"\n",
    "    # Create output folder if it doesn't exist\n",
    "    if not os.path.exists(output_folder):\n",
    "        os.makedirs(output_folder)\n",
    "        print(f\"Created output directory: {output_folder}\")\n",
    "    \n",
    "    # Get all JPG files in the input folder\n",
    "    jpg_extensions = ('.jpg', '.jpeg', '.JPG', '.JPEG')\n",
    "    jpg_files = [f for f in os.listdir(input_folder) if f.endswith(jpg_extensions)]\n",
    "    \n",
    "    if not jpg_files:\n",
    "        print(f\"No JPG files found in {input_folder}\")\n",
    "        return\n",
    "    \n",
    "    print(f\"Found {len(jpg_files)} JPG files to process...\")\n",
    "    \n",
    "    # Process each file\n",
    "    successful = 0\n",
    "    for jpg_file in jpg_files:\n",
    "        input_path = os.path.join(input_folder, jpg_file)\n",
    "        if process_image(input_path, output_folder, size):\n",
    "            successful += 1\n",
    "    \n",
    "    print(f\"Processing complete. {successful} of {len(jpg_files)} images converted successfully.\")\n",
    "\n",
    "def main():\n",
    "    parser = argparse.ArgumentParser(description='Convert JPG images to 500x500 PNG')\n",
    "    parser.add_argument('input_folder', help='Folder containing JPG images')\n",
    "    parser.add_argument('--output-folder', '-o', help='Folder to save PNG images (default: input_folder/converted)')\n",
    "    parser.add_argument('--size', '-s', type=int, default=500, help='Size of the output square images (default: 500)')\n",
    "    \n",
    "    args = parser.parse_args()\n",
    "    \n",
    "    # If output folder not specified, create a \"converted\" subfolder\n",
    "    if not args.output_folder:\n",
    "        args.output_folder = os.path.join(args.input_folder, 'converted')\n",
    "    \n",
    "    # Process images\n",
    "    batch_process_images(args.input_folder, args.output_folder, size=(args.size, args.size))\n",
    "\n",
    "if __name__ == \"__main__\":\n",
    "    main()"
   ]
  }
 ],
 "metadata": {
  "kernelspec": {
   "display_name": "Python 3 (ipykernel)",
   "language": "python",
   "name": "python3"
  },
  "language_info": {
   "codemirror_mode": {
    "name": "ipython",
    "version": 3
   },
   "file_extension": ".py",
   "mimetype": "text/x-python",
   "name": "python",
   "nbconvert_exporter": "python",
   "pygments_lexer": "ipython3",
   "version": "3.11.5"
  }
 },
 "nbformat": 4,
 "nbformat_minor": 5
}
